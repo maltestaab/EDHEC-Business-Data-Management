{
 "cells": [
  {
   "cell_type": "code",
   "execution_count": 46,
   "metadata": {},
   "outputs": [],
   "source": [
    "from google.cloud import bigquery\n",
    "from google.oauth2 import service_account\n",
    "import pandas as pd"
   ]
  },
  {
   "cell_type": "markdown",
   "metadata": {},
   "source": [
    "## Import of Dataset from BigQuery"
   ]
  },
  {
   "cell_type": "code",
   "execution_count": 2,
   "metadata": {},
   "outputs": [],
   "source": [
    "# Path to your Google Cloud service account key file\n",
    "key_path = \"/Users/maltestaab/Library/Mobile Documents/com~apple~CloudDocs/EDHEC/2. Semester/Business Data Management/EDHEC-Business-Data-Management/edhecbusinessdatamanagement-c6e1e94cdafb.json\"\n",
    "\n",
    "# Create credentials and initialize the BigQuery client\n",
    "credentials = service_account.Credentials.from_service_account_file(key_path)\n",
    "client = bigquery.Client(credentials=credentials, project=\"edhecbusinessdatamanagement\")\n"
   ]
  },
  {
   "cell_type": "code",
   "execution_count": 12,
   "metadata": {},
   "outputs": [
    {
     "name": "stderr",
     "output_type": "stream",
     "text": [
      "/Users/maltestaab/.pyenv/versions/3.8.12/envs/chanelenv/lib/python3.8/site-packages/google/cloud/bigquery/table.py:1820: UserWarning: BigQuery Storage module not found, fetch data with the REST endpoint instead.\n",
      "  warnings.warn(\n"
     ]
    },
    {
     "name": "stdout",
     "output_type": "stream",
     "text": [
      "     uid   brand                                                url  price  \\\n",
      "0  48802  Chanel  https://www.chanel.com/ch-fr/mode/p/A01112B027...   6980   \n",
      "1  48803  Chanel  https://www.chanel.com/zh_CN/fashion/p/hdb/a01...  53700   \n",
      "2  48804  Chanel  https://www.chanel.com/fr/mode/p/A01112B027529...   6640   \n",
      "3  48805  Chanel  https://www.chanel.com/en_GB/fashion/p/hdb/a01...   5820   \n",
      "4  48807  Chanel  https://www.chanel.com/hk-zh/fashion/p/A01112B...  53300   \n",
      "\n",
      "  currency                                          image_url  \\\n",
      "0      CHF  https://www.chanel.com/images///q_auto,f_jpg,f...   \n",
      "1      CNY  https://www.chanel.com/images///q_auto,f_jpg,f...   \n",
      "2      EUR  https://www.chanel.com/images///q_auto,f_jpg,f...   \n",
      "3      GBP  https://www.chanel.com/images///q_auto,f_jpg,f...   \n",
      "4      HKD  https://www.chanel.com/images///q_auto,f_jpg,f...   \n",
      "\n",
      "        collection     reference_code country life_span_date  \\\n",
      "0  CLASSIC HANDBAG  A01112B0275294305    None     2020-09-24   \n",
      "1  CLASSIC HANDBAG  A01112B0275294305    None     2020-09-24   \n",
      "2  CLASSIC HANDBAG  A01112B0275294305    None     2020-09-24   \n",
      "3  CLASSIC HANDBAG  A01112B0275294305    None     2020-09-24   \n",
      "4  CLASSIC HANDBAG  A01112B0275294305    None     2020-09-24   \n",
      "\n",
      "           life_span  price_before  price_difference  price_percent_change  \\\n",
      "0  Q4 September 2020           NaN                 0                   0.0   \n",
      "1  Q4 September 2020           NaN                 0                   0.0   \n",
      "2  Q4 September 2020           NaN                 0                   0.0   \n",
      "3  Q4 September 2020           NaN                 0                   0.0   \n",
      "4  Q4 September 2020           NaN                 0                   0.0   \n",
      "\n",
      "   price_changed  is_new  \n",
      "0            0.0     NaN  \n",
      "1            0.0     NaN  \n",
      "2            0.0     NaN  \n",
      "3            0.0     NaN  \n",
      "4            0.0     NaN  \n"
     ]
    }
   ],
   "source": [
    "\n",
    "query = \"\"\"\n",
    "    SELECT * \n",
    "    FROM `edhec-business-manageme.luxurydata2502.price-monitoring-2022`\n",
    "    WHERE Brand = 'Chanel'\n",
    "\"\"\"\n",
    "\n",
    "# Run the query and load results into a Pandas DataFrame\n",
    "df = client.query(query).to_dataframe()\n",
    "\n",
    "# Display the first 5 rows of the dataframe\n",
    "print(df.head())\n"
   ]
  },
  {
   "cell_type": "markdown",
   "metadata": {},
   "source": [
    "## Data Cleaning"
   ]
  },
  {
   "cell_type": "code",
   "execution_count": 13,
   "metadata": {},
   "outputs": [
    {
     "name": "stdout",
     "output_type": "stream",
     "text": [
      "<class 'pandas.core.frame.DataFrame'>\n",
      "RangeIndex: 55061 entries, 0 to 55060\n",
      "Data columns (total 16 columns):\n",
      " #   Column                Non-Null Count  Dtype         \n",
      "---  ------                --------------  -----         \n",
      " 0   uid                   55061 non-null  Int64         \n",
      " 1   brand                 55061 non-null  object        \n",
      " 2   url                   55061 non-null  object        \n",
      " 3   price                 51029 non-null  Int64         \n",
      " 4   currency              55061 non-null  object        \n",
      " 5   image_url             47225 non-null  object        \n",
      " 6   collection            55001 non-null  object        \n",
      " 7   reference_code        55061 non-null  object        \n",
      " 8   country               0 non-null      object        \n",
      " 9   life_span_date        55061 non-null  datetime64[us]\n",
      " 10  life_span             55061 non-null  object        \n",
      " 11  price_before          32852 non-null  float64       \n",
      " 12  price_difference      55061 non-null  Int64         \n",
      " 13  price_percent_change  55061 non-null  float64       \n",
      " 14  price_changed         55061 non-null  float64       \n",
      " 15  is_new                0 non-null      float64       \n",
      "dtypes: Int64(3), datetime64[us](1), float64(4), object(8)\n",
      "memory usage: 6.9+ MB\n"
     ]
    }
   ],
   "source": [
    "df.info()"
   ]
  },
  {
   "cell_type": "code",
   "execution_count": 14,
   "metadata": {},
   "outputs": [],
   "source": [
    "df = df.drop([\"country\",\"is_new\", \"image_url\"], axis=1)"
   ]
  },
  {
   "cell_type": "code",
   "execution_count": 15,
   "metadata": {},
   "outputs": [
    {
     "name": "stdout",
     "output_type": "stream",
     "text": [
      "<class 'pandas.core.frame.DataFrame'>\n",
      "RangeIndex: 55061 entries, 0 to 55060\n",
      "Data columns (total 13 columns):\n",
      " #   Column                Non-Null Count  Dtype         \n",
      "---  ------                --------------  -----         \n",
      " 0   uid                   55061 non-null  Int64         \n",
      " 1   brand                 55061 non-null  object        \n",
      " 2   url                   55061 non-null  object        \n",
      " 3   price                 51029 non-null  Int64         \n",
      " 4   currency              55061 non-null  object        \n",
      " 5   collection            55001 non-null  object        \n",
      " 6   reference_code        55061 non-null  object        \n",
      " 7   life_span_date        55061 non-null  datetime64[us]\n",
      " 8   life_span             55061 non-null  object        \n",
      " 9   price_before          32852 non-null  float64       \n",
      " 10  price_difference      55061 non-null  Int64         \n",
      " 11  price_percent_change  55061 non-null  float64       \n",
      " 12  price_changed         55061 non-null  float64       \n",
      "dtypes: Int64(3), datetime64[us](1), float64(3), object(6)\n",
      "memory usage: 5.6+ MB\n"
     ]
    }
   ],
   "source": [
    "df.info()"
   ]
  },
  {
   "cell_type": "code",
   "execution_count": 18,
   "metadata": {},
   "outputs": [],
   "source": [
    "df = df.dropna(subset=['price'])\n",
    "df = df.dropna(subset=['collection'])\n"
   ]
  },
  {
   "cell_type": "code",
   "execution_count": 19,
   "metadata": {},
   "outputs": [
    {
     "name": "stdout",
     "output_type": "stream",
     "text": [
      "<class 'pandas.core.frame.DataFrame'>\n",
      "Index: 50971 entries, 0 to 55060\n",
      "Data columns (total 13 columns):\n",
      " #   Column                Non-Null Count  Dtype         \n",
      "---  ------                --------------  -----         \n",
      " 0   uid                   50971 non-null  Int64         \n",
      " 1   brand                 50971 non-null  object        \n",
      " 2   url                   50971 non-null  object        \n",
      " 3   price                 50971 non-null  Int64         \n",
      " 4   currency              50971 non-null  object        \n",
      " 5   collection            50971 non-null  object        \n",
      " 6   reference_code        50971 non-null  object        \n",
      " 7   life_span_date        50971 non-null  datetime64[us]\n",
      " 8   life_span             50971 non-null  object        \n",
      " 9   price_before          32682 non-null  float64       \n",
      " 10  price_difference      50971 non-null  Int64         \n",
      " 11  price_percent_change  50971 non-null  float64       \n",
      " 12  price_changed         50971 non-null  float64       \n",
      "dtypes: Int64(3), datetime64[us](1), float64(3), object(6)\n",
      "memory usage: 5.6+ MB\n"
     ]
    }
   ],
   "source": [
    "df.info()"
   ]
  },
  {
   "cell_type": "code",
   "execution_count": 20,
   "metadata": {},
   "outputs": [
    {
     "data": {
      "text/html": [
       "<div>\n",
       "<style scoped>\n",
       "    .dataframe tbody tr th:only-of-type {\n",
       "        vertical-align: middle;\n",
       "    }\n",
       "\n",
       "    .dataframe tbody tr th {\n",
       "        vertical-align: top;\n",
       "    }\n",
       "\n",
       "    .dataframe thead th {\n",
       "        text-align: right;\n",
       "    }\n",
       "</style>\n",
       "<table border=\"1\" class=\"dataframe\">\n",
       "  <thead>\n",
       "    <tr style=\"text-align: right;\">\n",
       "      <th></th>\n",
       "      <th>uid</th>\n",
       "      <th>brand</th>\n",
       "      <th>url</th>\n",
       "      <th>price</th>\n",
       "      <th>currency</th>\n",
       "      <th>collection</th>\n",
       "      <th>reference_code</th>\n",
       "      <th>life_span_date</th>\n",
       "      <th>life_span</th>\n",
       "      <th>price_before</th>\n",
       "      <th>price_difference</th>\n",
       "      <th>price_percent_change</th>\n",
       "      <th>price_changed</th>\n",
       "    </tr>\n",
       "  </thead>\n",
       "  <tbody>\n",
       "    <tr>\n",
       "      <th>0</th>\n",
       "      <td>48802</td>\n",
       "      <td>Chanel</td>\n",
       "      <td>https://www.chanel.com/ch-fr/mode/p/A01112B027...</td>\n",
       "      <td>6980</td>\n",
       "      <td>CHF</td>\n",
       "      <td>CLASSIC HANDBAG</td>\n",
       "      <td>A01112B0275294305</td>\n",
       "      <td>2020-09-24</td>\n",
       "      <td>Q4 September 2020</td>\n",
       "      <td>NaN</td>\n",
       "      <td>0</td>\n",
       "      <td>0.0</td>\n",
       "      <td>0.0</td>\n",
       "    </tr>\n",
       "    <tr>\n",
       "      <th>1</th>\n",
       "      <td>48803</td>\n",
       "      <td>Chanel</td>\n",
       "      <td>https://www.chanel.com/zh_CN/fashion/p/hdb/a01...</td>\n",
       "      <td>53700</td>\n",
       "      <td>CNY</td>\n",
       "      <td>CLASSIC HANDBAG</td>\n",
       "      <td>A01112B0275294305</td>\n",
       "      <td>2020-09-24</td>\n",
       "      <td>Q4 September 2020</td>\n",
       "      <td>NaN</td>\n",
       "      <td>0</td>\n",
       "      <td>0.0</td>\n",
       "      <td>0.0</td>\n",
       "    </tr>\n",
       "    <tr>\n",
       "      <th>2</th>\n",
       "      <td>48804</td>\n",
       "      <td>Chanel</td>\n",
       "      <td>https://www.chanel.com/fr/mode/p/A01112B027529...</td>\n",
       "      <td>6640</td>\n",
       "      <td>EUR</td>\n",
       "      <td>CLASSIC HANDBAG</td>\n",
       "      <td>A01112B0275294305</td>\n",
       "      <td>2020-09-24</td>\n",
       "      <td>Q4 September 2020</td>\n",
       "      <td>NaN</td>\n",
       "      <td>0</td>\n",
       "      <td>0.0</td>\n",
       "      <td>0.0</td>\n",
       "    </tr>\n",
       "    <tr>\n",
       "      <th>3</th>\n",
       "      <td>48805</td>\n",
       "      <td>Chanel</td>\n",
       "      <td>https://www.chanel.com/en_GB/fashion/p/hdb/a01...</td>\n",
       "      <td>5820</td>\n",
       "      <td>GBP</td>\n",
       "      <td>CLASSIC HANDBAG</td>\n",
       "      <td>A01112B0275294305</td>\n",
       "      <td>2020-09-24</td>\n",
       "      <td>Q4 September 2020</td>\n",
       "      <td>NaN</td>\n",
       "      <td>0</td>\n",
       "      <td>0.0</td>\n",
       "      <td>0.0</td>\n",
       "    </tr>\n",
       "    <tr>\n",
       "      <th>4</th>\n",
       "      <td>48807</td>\n",
       "      <td>Chanel</td>\n",
       "      <td>https://www.chanel.com/hk-zh/fashion/p/A01112B...</td>\n",
       "      <td>53300</td>\n",
       "      <td>HKD</td>\n",
       "      <td>CLASSIC HANDBAG</td>\n",
       "      <td>A01112B0275294305</td>\n",
       "      <td>2020-09-24</td>\n",
       "      <td>Q4 September 2020</td>\n",
       "      <td>NaN</td>\n",
       "      <td>0</td>\n",
       "      <td>0.0</td>\n",
       "      <td>0.0</td>\n",
       "    </tr>\n",
       "  </tbody>\n",
       "</table>\n",
       "</div>"
      ],
      "text/plain": [
       "     uid   brand                                                url  price  \\\n",
       "0  48802  Chanel  https://www.chanel.com/ch-fr/mode/p/A01112B027...   6980   \n",
       "1  48803  Chanel  https://www.chanel.com/zh_CN/fashion/p/hdb/a01...  53700   \n",
       "2  48804  Chanel  https://www.chanel.com/fr/mode/p/A01112B027529...   6640   \n",
       "3  48805  Chanel  https://www.chanel.com/en_GB/fashion/p/hdb/a01...   5820   \n",
       "4  48807  Chanel  https://www.chanel.com/hk-zh/fashion/p/A01112B...  53300   \n",
       "\n",
       "  currency       collection     reference_code life_span_date  \\\n",
       "0      CHF  CLASSIC HANDBAG  A01112B0275294305     2020-09-24   \n",
       "1      CNY  CLASSIC HANDBAG  A01112B0275294305     2020-09-24   \n",
       "2      EUR  CLASSIC HANDBAG  A01112B0275294305     2020-09-24   \n",
       "3      GBP  CLASSIC HANDBAG  A01112B0275294305     2020-09-24   \n",
       "4      HKD  CLASSIC HANDBAG  A01112B0275294305     2020-09-24   \n",
       "\n",
       "           life_span  price_before  price_difference  price_percent_change  \\\n",
       "0  Q4 September 2020           NaN                 0                   0.0   \n",
       "1  Q4 September 2020           NaN                 0                   0.0   \n",
       "2  Q4 September 2020           NaN                 0                   0.0   \n",
       "3  Q4 September 2020           NaN                 0                   0.0   \n",
       "4  Q4 September 2020           NaN                 0                   0.0   \n",
       "\n",
       "   price_changed  \n",
       "0            0.0  \n",
       "1            0.0  \n",
       "2            0.0  \n",
       "3            0.0  \n",
       "4            0.0  "
      ]
     },
     "execution_count": 20,
     "metadata": {},
     "output_type": "execute_result"
    }
   ],
   "source": [
    "df.head()"
   ]
  },
  {
   "cell_type": "code",
   "execution_count": 21,
   "metadata": {},
   "outputs": [
    {
     "data": {
      "text/html": [
       "<div>\n",
       "<style scoped>\n",
       "    .dataframe tbody tr th:only-of-type {\n",
       "        vertical-align: middle;\n",
       "    }\n",
       "\n",
       "    .dataframe tbody tr th {\n",
       "        vertical-align: top;\n",
       "    }\n",
       "\n",
       "    .dataframe thead th {\n",
       "        text-align: right;\n",
       "    }\n",
       "</style>\n",
       "<table border=\"1\" class=\"dataframe\">\n",
       "  <thead>\n",
       "    <tr style=\"text-align: right;\">\n",
       "      <th></th>\n",
       "      <th>uid</th>\n",
       "      <th>brand</th>\n",
       "      <th>url</th>\n",
       "      <th>price</th>\n",
       "      <th>currency</th>\n",
       "      <th>collection</th>\n",
       "      <th>reference_code</th>\n",
       "      <th>life_span_date</th>\n",
       "      <th>life_span</th>\n",
       "      <th>price_before</th>\n",
       "      <th>price_difference</th>\n",
       "      <th>price_percent_change</th>\n",
       "      <th>price_changed</th>\n",
       "    </tr>\n",
       "  </thead>\n",
       "  <tbody>\n",
       "    <tr>\n",
       "      <th>2078</th>\n",
       "      <td>68963</td>\n",
       "      <td>Chanel</td>\n",
       "      <td>https://www.chanel.com/ch-fr/mode/p/AS1939B033...</td>\n",
       "      <td>8930</td>\n",
       "      <td>CHF</td>\n",
       "      <td>CLASSIC HANDBAG</td>\n",
       "      <td>AS1939B0339894305</td>\n",
       "      <td>2020-10-28</td>\n",
       "      <td>Q4 October 2020</td>\n",
       "      <td>8930.0</td>\n",
       "      <td>0</td>\n",
       "      <td>0.0</td>\n",
       "      <td>0.0</td>\n",
       "    </tr>\n",
       "    <tr>\n",
       "      <th>2080</th>\n",
       "      <td>68965</td>\n",
       "      <td>Chanel</td>\n",
       "      <td>https://www.chanel.com/ch-fr/mode/p/A37586B034...</td>\n",
       "      <td>6360</td>\n",
       "      <td>CHF</td>\n",
       "      <td>2.55 HANDBAG</td>\n",
       "      <td>A37586B0346399999</td>\n",
       "      <td>2020-10-28</td>\n",
       "      <td>Q4 October 2020</td>\n",
       "      <td>6360.0</td>\n",
       "      <td>0</td>\n",
       "      <td>0.0</td>\n",
       "      <td>0.0</td>\n",
       "    </tr>\n",
       "    <tr>\n",
       "      <th>2081</th>\n",
       "      <td>68966</td>\n",
       "      <td>Chanel</td>\n",
       "      <td>https://www.chanel.com/ch-fr/mode/p/AS1787B034...</td>\n",
       "      <td>4100</td>\n",
       "      <td>CHF</td>\n",
       "      <td>FLAP BAG</td>\n",
       "      <td>AS1787B03437N8266</td>\n",
       "      <td>2020-10-28</td>\n",
       "      <td>Q4 October 2020</td>\n",
       "      <td>4100.0</td>\n",
       "      <td>0</td>\n",
       "      <td>0.0</td>\n",
       "      <td>0.0</td>\n",
       "    </tr>\n",
       "    <tr>\n",
       "      <th>2082</th>\n",
       "      <td>68967</td>\n",
       "      <td>Chanel</td>\n",
       "      <td>https://www.chanel.com/ch-fr/mode/p/AS1875B034...</td>\n",
       "      <td>4100</td>\n",
       "      <td>CHF</td>\n",
       "      <td>SHOPPING BAG</td>\n",
       "      <td>AS1875B0340894305</td>\n",
       "      <td>2020-10-28</td>\n",
       "      <td>Q4 October 2020</td>\n",
       "      <td>4100.0</td>\n",
       "      <td>0</td>\n",
       "      <td>0.0</td>\n",
       "      <td>0.0</td>\n",
       "    </tr>\n",
       "    <tr>\n",
       "      <th>2083</th>\n",
       "      <td>68968</td>\n",
       "      <td>Chanel</td>\n",
       "      <td>https://www.chanel.com/ch-fr/mode/p/AS1876B034...</td>\n",
       "      <td>4200</td>\n",
       "      <td>CHF</td>\n",
       "      <td>LARGE SHOPPING BAG</td>\n",
       "      <td>AS1876B03422N7619</td>\n",
       "      <td>2020-10-28</td>\n",
       "      <td>Q4 October 2020</td>\n",
       "      <td>4200.0</td>\n",
       "      <td>0</td>\n",
       "      <td>0.0</td>\n",
       "      <td>0.0</td>\n",
       "    </tr>\n",
       "  </tbody>\n",
       "</table>\n",
       "</div>"
      ],
      "text/plain": [
       "        uid   brand                                                url  price  \\\n",
       "2078  68963  Chanel  https://www.chanel.com/ch-fr/mode/p/AS1939B033...   8930   \n",
       "2080  68965  Chanel  https://www.chanel.com/ch-fr/mode/p/A37586B034...   6360   \n",
       "2081  68966  Chanel  https://www.chanel.com/ch-fr/mode/p/AS1787B034...   4100   \n",
       "2082  68967  Chanel  https://www.chanel.com/ch-fr/mode/p/AS1875B034...   4100   \n",
       "2083  68968  Chanel  https://www.chanel.com/ch-fr/mode/p/AS1876B034...   4200   \n",
       "\n",
       "     currency          collection     reference_code life_span_date  \\\n",
       "2078      CHF     CLASSIC HANDBAG  AS1939B0339894305     2020-10-28   \n",
       "2080      CHF        2.55 HANDBAG  A37586B0346399999     2020-10-28   \n",
       "2081      CHF            FLAP BAG  AS1787B03437N8266     2020-10-28   \n",
       "2082      CHF        SHOPPING BAG  AS1875B0340894305     2020-10-28   \n",
       "2083      CHF  LARGE SHOPPING BAG  AS1876B03422N7619     2020-10-28   \n",
       "\n",
       "            life_span  price_before  price_difference  price_percent_change  \\\n",
       "2078  Q4 October 2020        8930.0                 0                   0.0   \n",
       "2080  Q4 October 2020        6360.0                 0                   0.0   \n",
       "2081  Q4 October 2020        4100.0                 0                   0.0   \n",
       "2082  Q4 October 2020        4100.0                 0                   0.0   \n",
       "2083  Q4 October 2020        4200.0                 0                   0.0   \n",
       "\n",
       "      price_changed  \n",
       "2078            0.0  \n",
       "2080            0.0  \n",
       "2081            0.0  \n",
       "2082            0.0  \n",
       "2083            0.0  "
      ]
     },
     "execution_count": 21,
     "metadata": {},
     "output_type": "execute_result"
    }
   ],
   "source": [
    "df[df['price_before'].notna()].head()\n"
   ]
  },
  {
   "cell_type": "code",
   "execution_count": null,
   "metadata": {},
   "outputs": [
    {
     "data": {
      "text/plain": [
       "2712"
      ]
     },
     "execution_count": 42,
     "metadata": {},
     "output_type": "execute_result"
    }
   ],
   "source": [
    "# Not many rows have actual information about price difference\n",
    "df[\"price_difference\"].count() - df[\"price_difference\"][df[\"price_difference\"] == 0].count()"
   ]
  },
  {
   "cell_type": "code",
   "execution_count": null,
   "metadata": {},
   "outputs": [
    {
     "data": {
      "text/plain": [
       "2712"
      ]
     },
     "execution_count": 43,
     "metadata": {},
     "output_type": "execute_result"
    }
   ],
   "source": [
    "# Not many rows have actual information about price change \n",
    "df[\"price_changed\"].count() - df[\"price_changed\"][df[\"price_changed\"] == 0].count()"
   ]
  },
  {
   "cell_type": "code",
   "execution_count": 45,
   "metadata": {},
   "outputs": [
    {
     "name": "stdout",
     "output_type": "stream",
     "text": [
      "<class 'pandas.core.frame.DataFrame'>\n",
      "Index: 50971 entries, 0 to 55060\n",
      "Data columns (total 9 columns):\n",
      " #   Column          Non-Null Count  Dtype         \n",
      "---  ------          --------------  -----         \n",
      " 0   uid             50971 non-null  Int64         \n",
      " 1   brand           50971 non-null  object        \n",
      " 2   url             50971 non-null  object        \n",
      " 3   price           50971 non-null  Int64         \n",
      " 4   currency        50971 non-null  object        \n",
      " 5   collection      50971 non-null  object        \n",
      " 6   reference_code  50971 non-null  object        \n",
      " 7   life_span_date  50971 non-null  datetime64[us]\n",
      " 8   life_span       50971 non-null  object        \n",
      "dtypes: Int64(2), datetime64[us](1), object(6)\n",
      "memory usage: 6.0+ MB\n"
     ]
    }
   ],
   "source": [
    "# I remove these columns\n",
    "\n",
    "df = df.drop([\"price_difference\", \"price_percent_change\", \"price_changed\", \"price_before\"], axis=1)\n",
    "\n",
    "df.info()"
   ]
  },
  {
   "cell_type": "markdown",
   "metadata": {},
   "source": [
    "# Preprocessing: Same Exchange rate for all products"
   ]
  },
  {
   "cell_type": "code",
   "execution_count": null,
   "metadata": {},
   "outputs": [],
   "source": [
    "# API URL for exchange rates (USD as base currency)\n",
    "url = 'https://v6.exchangerate-api.com/v6/4eb043dba172cec94fe70b22/latest/EUR'\n",
    "\n",
    "# Making the request\n",
    "response = requests.get(url)\n",
    "data = response.json()\n",
    "\n",
    "# Extract the conversion rates dictionary\n",
    "conversion_rates = data[\"conversion_rates\"]\n",
    "\n",
    "# Convert to DataFrame\n",
    "cr = pd.DataFrame(list(conversion_rates.items()), columns=[\"Currency\", \"Exchange Rate\"])"
   ]
  },
  {
   "cell_type": "code",
   "execution_count": null,
   "metadata": {},
   "outputs": [],
   "source": [
    "# Merge df1 (orders) with cr (exchange rates) based on currency\n",
    "df1 = df1.merge(cr, left_on=\"currency\", right_on=\"Currency\", how=\"left\")\n",
    "\n",
    "# Convert price using the exchange rate\n",
    "df1[\"price\"] = df1[\"price\"] / df1[\"Exchange Rate\"]\n",
    "\n",
    "# Update currency to EUR\n",
    "df1[\"currency\"] = \"EUR\"\n",
    "\n",
    "# Drop unnecessary columns\n",
    "df1 = df1.drop(columns=[\"Exchange Rate\", \"Currency\"])"
   ]
  }
 ],
 "metadata": {
  "kernelspec": {
   "display_name": "chanelenv",
   "language": "python",
   "name": "python3"
  },
  "language_info": {
   "codemirror_mode": {
    "name": "ipython",
    "version": 3
   },
   "file_extension": ".py",
   "mimetype": "text/x-python",
   "name": "python",
   "nbconvert_exporter": "python",
   "pygments_lexer": "ipython3",
   "version": "3.8.12"
  }
 },
 "nbformat": 4,
 "nbformat_minor": 2
}
